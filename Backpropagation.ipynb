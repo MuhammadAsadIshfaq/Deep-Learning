{
 "cells": [
  {
   "cell_type": "code",
   "execution_count": 10,
   "id": "707a7c0c",
   "metadata": {},
   "outputs": [
    {
     "name": "stdout",
     "output_type": "stream",
     "text": [
      "0.5\n",
      "0.6224593312018546\n"
     ]
    }
   ],
   "source": [
    "import numpy as np\n",
    "\n",
    "x1 = 2 \n",
    "x2 = 3\n",
    "x3 = 2.5\n",
    "lr = 0.1\n",
    "\n",
    "w1 = 0.7\n",
    "w2 = 0.2\n",
    "w3 = -1\n",
    "b = 1\n",
    "\n",
    "z = (x1 * w1) + (x2 * w2) + (x3 * w3) + b\n",
    "\n",
    "def sigmoid(x):\n",
    "    return 1 / (1 + np.exp(-x))\n",
    "\n",
    "a = sigmoid(z)\n",
    "\n",
    "print(z)\n",
    "print(a)"
   ]
  },
  {
   "cell_type": "code",
   "execution_count": 11,
   "id": "95d82cfa",
   "metadata": {},
   "outputs": [
    {
     "name": "stdout",
     "output_type": "stream",
     "text": [
      "Loss is  0.47407698418010663\n"
     ]
    }
   ],
   "source": [
    "y = 1  \n",
    "loss = - (y * np.log(a) + (1 - y) * np.log(1 - a))\n",
    "\n",
    "print(\"Loss is \",loss)"
   ]
  },
  {
   "cell_type": "code",
   "execution_count": 12,
   "id": "5ef7404d",
   "metadata": {},
   "outputs": [
    {
     "name": "stdout",
     "output_type": "stream",
     "text": [
      "Updated weights:\n",
      "w1 = 0.775508133759629\n",
      "w2 = 0.31326220063944366\n",
      "w3 = -0.9056148328004636\n",
      "Updated bias:\n",
      "b = 1.0377540668798146\n"
     ]
    }
   ],
   "source": [
    "dz = a-y\n",
    "dw1 = x1*dz\n",
    "dw2 = x2*dz\n",
    "dw3 = x3*dz\n",
    "\n",
    "w1 = w1 - lr * dw1\n",
    "w2 = w2 - lr * dw2\n",
    "w3 = w3 - lr * dw3\n",
    "b = b - lr * dz\n",
    "\n",
    "print(\"Updated weights:\")\n",
    "print(\"w1 =\", w1)\n",
    "print(\"w2 =\", w2)\n",
    "print(\"w3 =\", w3)\n",
    "print(\"Updated bias:\")\n",
    "print(\"b =\", b)"
   ]
  },
  {
   "cell_type": "code",
   "execution_count": 16,
   "id": "1f868be1",
   "metadata": {},
   "outputs": [
    {
     "name": "stdout",
     "output_type": "stream",
     "text": [
      "z = 2.979318276496441\n",
      "a = 0.9516310015896293\n",
      "Loss = 0.049577922700613286\n",
      "Updated weights: [ 0.95454474  0.58181711 -0.68181907]\n",
      "Updated bias: 1.1272723702853058\n"
     ]
    }
   ],
   "source": [
    "inputs = np.array([2, 3, 2.5])\n",
    "weights = np.array([0.7, 0.2, -1])\n",
    "bias = 1\n",
    "learning_rate = 0.1\n",
    "target = 1\n",
    "\n",
    "iterations = 10\n",
    "\n",
    "for i in range(iterations):\n",
    "    z = np.dot(inputs, weights) + bias\n",
    "    a = sigmoid(z)\n",
    "    \n",
    "    loss = - (target * np.log(a) + (1 - target) * np.log(1 - a))\n",
    "    \n",
    "    dz = a - target\n",
    "    dw = inputs * dz\n",
    "    db = dz\n",
    "    weights = weights - learning_rate * dw\n",
    "    bias = bias - learning_rate * db\n",
    "\n",
    "print(f\"z = {z}\")\n",
    "print(f\"a = {a}\")\n",
    "print(f\"Loss = {loss}\")\n",
    "print(\"Updated weights:\", weights)\n",
    "print(\"Updated bias:\", bias)"
   ]
  },
  {
   "cell_type": "code",
   "execution_count": 29,
   "id": "74930bd9",
   "metadata": {},
   "outputs": [
    {
     "name": "stdout",
     "output_type": "stream",
     "text": [
      "z is  [ 5.0000000e-01  9.0000000e-01 -4.4408921e-16]\n",
      "a is  [0.62245933 0.7109495  0.5       ]\n"
     ]
    }
   ],
   "source": [
    "inputs = np.array([[2, 3, 2.5],\n",
    "                   [3, 4, 3],\n",
    "                   [3, 2, 3.5]])\n",
    "sample = len(inputs)\n",
    "\n",
    "weights = np.array([0.7, 0.2, -1])\n",
    "bias = 1\n",
    "learning_rate = 0.1\n",
    "targets = np.array([1, 1.2, 1.15])\n",
    "\n",
    "\n",
    "z = np.dot(inputs, weights) + bias\n",
    "a = sigmoid(z)\n",
    "\n",
    "print(\"z is \",z)\n",
    "print(\"a is \",a)"
   ]
  },
  {
   "cell_type": "code",
   "execution_count": 30,
   "id": "cc504d87",
   "metadata": {},
   "outputs": [
    {
     "name": "stdout",
     "output_type": "stream",
     "text": [
      "Loss is  [0.47407698 0.16115387 0.69314718]\n"
     ]
    }
   ],
   "source": [
    "loss = - (targets * np.log(a) + (1 - targets) * np.log(1 - a))\n",
    "print(\"Loss is \",loss)"
   ]
  },
  {
   "cell_type": "code",
   "execution_count": 31,
   "id": "9e4b50e2",
   "metadata": {},
   "outputs": [
    {
     "name": "stdout",
     "output_type": "stream",
     "text": [
      "average 0.44279267982404674\n"
     ]
    }
   ],
   "source": [
    "average_loss = np.mean(loss)\n",
    "print(\"average\",average_loss)"
   ]
  },
  {
   "cell_type": "code",
   "execution_count": 32,
   "id": "a24fd1b4",
   "metadata": {},
   "outputs": [
    {
     "name": "stdout",
     "output_type": "stream",
     "text": [
      "dz  [-0.37754067 -0.4890505  -0.65      ]\n"
     ]
    }
   ],
   "source": [
    "dz = a - targets\n",
    "print(\"dz \",dz)"
   ]
  },
  {
   "cell_type": "code",
   "execution_count": 33,
   "id": "39379c88",
   "metadata": {},
   "outputs": [
    {
     "name": "stdout",
     "output_type": "stream",
     "text": [
      "dw [-1.39074428 -1.46294133 -1.56200105]\n"
     ]
    }
   ],
   "source": [
    "dw = np.dot(inputs.T, dz) / sample \n",
    "print(\"dw\",dw)"
   ]
  },
  {
   "cell_type": "code",
   "execution_count": 35,
   "id": "f1871979",
   "metadata": {},
   "outputs": [
    {
     "data": {
      "text/plain": [
       "-0.5055303887243805"
      ]
     },
     "execution_count": 35,
     "metadata": {},
     "output_type": "execute_result"
    }
   ],
   "source": [
    "db = np.mean(dz)  \n",
    "db"
   ]
  },
  {
   "cell_type": "code",
   "execution_count": 36,
   "id": "f5546ae1",
   "metadata": {},
   "outputs": [
    {
     "data": {
      "text/plain": [
       "array([ 0.83907443,  0.34629413, -0.84379989])"
      ]
     },
     "execution_count": 36,
     "metadata": {},
     "output_type": "execute_result"
    }
   ],
   "source": [
    "weights = weights - learning_rate * dw\n",
    "weights"
   ]
  },
  {
   "cell_type": "code",
   "execution_count": 37,
   "id": "ed270a5d",
   "metadata": {},
   "outputs": [
    {
     "data": {
      "text/plain": [
       "1.050553038872438"
      ]
     },
     "execution_count": 37,
     "metadata": {},
     "output_type": "execute_result"
    }
   ],
   "source": [
    "bias = bias - learning_rate * db\n",
    "bias"
   ]
  },
  {
   "cell_type": "code",
   "execution_count": null,
   "id": "d6e5e696",
   "metadata": {},
   "outputs": [],
   "source": []
  }
 ],
 "metadata": {
  "kernelspec": {
   "display_name": "Python 3 (ipykernel)",
   "language": "python",
   "name": "python3"
  },
  "language_info": {
   "codemirror_mode": {
    "name": "ipython",
    "version": 3
   },
   "file_extension": ".py",
   "mimetype": "text/x-python",
   "name": "python",
   "nbconvert_exporter": "python",
   "pygments_lexer": "ipython3",
   "version": "3.9.7"
  }
 },
 "nbformat": 4,
 "nbformat_minor": 5
}
