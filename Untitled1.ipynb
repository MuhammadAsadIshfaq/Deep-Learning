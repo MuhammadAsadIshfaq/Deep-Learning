{
 "cells": [
  {
   "cell_type": "markdown",
   "id": "f8b40e1c-ae01-4214-a2e7-788ae6cb8d1d",
   "metadata": {},
   "source": [
    "## For one sample"
   ]
  },
  {
   "cell_type": "code",
   "execution_count": 1,
   "id": "b624229e-b53e-467a-ae4a-d3958a091031",
   "metadata": {},
   "outputs": [],
   "source": [
    "import numpy as np"
   ]
  },
  {
   "cell_type": "code",
   "execution_count": 2,
   "id": "02009460-6ffd-4d65-ad5e-e1d9e918be57",
   "metadata": {},
   "outputs": [],
   "source": [
    "x = np.array([2,3,2.5])\n",
    "w = np.array([0.7,0.2,-1])\n",
    "b = 1\n",
    "y = 1\n",
    "alpha = 0.1"
   ]
  },
  {
   "cell_type": "code",
   "execution_count": 3,
   "id": "8f611c12-b3a2-4b6a-95af-9b3707046539",
   "metadata": {},
   "outputs": [],
   "source": [
    "def forward(x,w,b):\n",
    "    z = np.dot(x,w)+b\n",
    "    a = 1/(1+np.exp(-z))\n",
    "    # print(a)\n",
    "    return a"
   ]
  },
  {
   "cell_type": "code",
   "execution_count": 4,
   "id": "59bec4bb-3a8c-4c3f-aa66-8928704f712e",
   "metadata": {},
   "outputs": [],
   "source": [
    "def loss(a,y):\n",
    "    j = -(y*(np.log(a))+(1-y)*(1-np.log(a)))\n",
    "    print(j)\n",
    "    return j"
   ]
  },
  {
   "cell_type": "code",
   "execution_count": 5,
   "id": "15a3b657-414a-4eb5-896d-e29a1ff3efd4",
   "metadata": {},
   "outputs": [],
   "source": [
    "def back_propagation(x,b,a,y,w,alpha):\n",
    "    j = -(y*(np.log(a))+(1-y)*(1-np.log(a)))\n",
    "    print(j)\n",
    "    dw = (a-y)*x\n",
    "    dz = a - y\n",
    "    w = w - dw*alpha\n",
    "    b = b - dz*alpha\n",
    "    return w,b"
   ]
  },
  {
   "cell_type": "code",
   "execution_count": 6,
   "id": "c825a222-713a-4b79-a8a1-ec4b95cbdd17",
   "metadata": {},
   "outputs": [
    {
     "name": "stdout",
     "output_type": "stream",
     "text": [
      "0.47407698418010663\n",
      "0.24871370629054607\n",
      "0.16618382177245167\n",
      "0.12451039152339008\n",
      "0.09949067352693305\n",
      "0.08282679833461633\n",
      "0.0709379907418528\n"
     ]
    }
   ],
   "source": [
    "for i in range(7):\n",
    "    q = forward(x,w,b)\n",
    "    w,b = back_propagation(x,b,q,y,w,alpha)\n",
    "    "
   ]
  },
  {
   "cell_type": "markdown",
   "id": "e531ffbc-227c-43a3-9c3e-5987b5e1e5ae",
   "metadata": {},
   "source": [
    "## For multiple Sample"
   ]
  },
  {
   "cell_type": "code",
   "execution_count": 7,
   "id": "9abc4ca8-6e02-4e31-9941-3c65ac83f391",
   "metadata": {},
   "outputs": [],
   "source": [
    "X = np.array([[2,3,3],[3,4,2],[2.5,3,3.5]])\n",
    "w = np.array([0.7,0.2,-1])\n",
    "b = np.array([1])\n",
    "Y = np.array([1,1.2,1.15])\n",
    "alpha = np.array([0.1])"
   ]
  },
  {
   "cell_type": "code",
   "execution_count": 8,
   "id": "e7863419-c3ac-4ee2-b384-27e92d5af62a",
   "metadata": {},
   "outputs": [],
   "source": [
    "def forward(X,w,b):\n",
    "    z = np.dot(X,w)+b\n",
    "    a = 1/(1+np.exp(-z))\n",
    "    # print(a)\n",
    "    return a"
   ]
  },
  {
   "cell_type": "code",
   "execution_count": 9,
   "id": "68c6cd18-534a-40b5-89d2-9318e351f0d7",
   "metadata": {},
   "outputs": [
    {
     "data": {
      "text/plain": [
       "array([0.5       , 0.86989153, 0.46257015])"
      ]
     },
     "execution_count": 9,
     "metadata": {},
     "output_type": "execute_result"
    }
   ],
   "source": [
    "a= forward(X,w,b)\n",
    "a"
   ]
  },
  {
   "cell_type": "code",
   "execution_count": 10,
   "id": "2aa2e5e7-42a5-41ba-bb95-0e24df18f7fe",
   "metadata": {},
   "outputs": [],
   "source": [
    "def back_propagation(X, b, a, Y, w, alpha):\n",
    "    m = len(X) \n",
    "    j = -np.mean(Y * np.log(a) + (1 - Y) * np.log(1 - a))\n",
    "    print(j)\n",
    "    dw = np.dot(X.T, (a - Y)) / m  \n",
    "    db = np.mean(a - Y)  \n",
    "    w = w - alpha * dw  \n",
    "    b = b - alpha * db  \n",
    "    return w, b"
   ]
  },
  {
   "cell_type": "code",
   "execution_count": 11,
   "id": "b8a82d11-23cc-49e1-904c-db9e0cbb49ed",
   "metadata": {},
   "outputs": [
    {
     "name": "stdout",
     "output_type": "stream",
     "text": [
      "0.41533032887747945\n"
     ]
    },
    {
     "data": {
      "text/plain": [
       "(array([ 0.82363   ,  0.36275745, -0.84779262]), array([1.05058461]))"
      ]
     },
     "execution_count": 11,
     "metadata": {},
     "output_type": "execute_result"
    }
   ],
   "source": [
    "back_propagation(X,b,a,Y,w,alpha)"
   ]
  },
  {
   "cell_type": "code",
   "execution_count": 13,
   "id": "60ed06c1-86df-4ab7-8daa-7eb483be363e",
   "metadata": {},
   "outputs": [
    {
     "name": "stdout",
     "output_type": "stream",
     "text": [
      "Epoch 0: Loss = -0.8349575426964879\n",
      "Final w: [1.09400706 1.35787653 0.70070035]\n",
      "Final b: [0.75581973]\n"
     ]
    }
   ],
   "source": [
    "import numpy as np\n",
    "\n",
    "X = np.array([[2, 3, 3], [3, 4, 2], [2.5, 3, 3.5]])\n",
    "w = np.random.rand(3)  # Initialize w with random values\n",
    "b = np.random.rand(1)  # Initialize b with random values\n",
    "Y = np.array([1, 1.2, 1.15])\n",
    "alpha = 0.1\n",
    "\n",
    "def forward(X, w, b):\n",
    "    z = np.dot(X, w) + b\n",
    "    a = 1 / (1 + np.exp(-z))\n",
    "    return a\n",
    "\n",
    "def back_propagation(X, b, a, Y, w, alpha):\n",
    "    m = len(X)  # Number of examples\n",
    "    j = -np.mean(Y * np.log(a) + (1 - Y) * np.log(1 - a))  # Cross-entropy loss\n",
    "    dw = np.dot(X.T, (a - Y)) / m  # Gradient of w\n",
    "    db = np.mean(a - Y)  # Gradient of b\n",
    "    w = w - alpha * dw  # Update w\n",
    "    b = b - alpha * db  # Update b\n",
    "    return w, b\n",
    "\n",
    "# Training loop\n",
    "epochs = 10\n",
    "for epoch in range(epochs):\n",
    "    a = forward(X, w, b)\n",
    "    w, b = back_propagation(X, b, a, Y, w, alpha)\n",
    "    j = -np.mean(Y * np.log(a) + (1 - Y) * np.log(1 - a))  # Calculate the loss\n",
    "    if epoch % 100 == 0:\n",
    "        print(f'Epoch {epoch}: Loss = {j}')\n",
    "\n",
    "# Print final values of w and b\n",
    "print(f'Final w: {w}')\n",
    "print(f'Final b: {b}')"
   ]
  },
  {
   "cell_type": "code",
   "execution_count": null,
   "id": "50ab5a33-a41a-429d-8902-f8559d32e5b6",
   "metadata": {},
   "outputs": [],
   "source": []
  },
  {
   "cell_type": "code",
   "execution_count": null,
   "id": "a8e0b5bf",
   "metadata": {},
   "outputs": [],
   "source": []
  }
 ],
 "metadata": {
  "kernelspec": {
   "display_name": "Python 3 (ipykernel)",
   "language": "python",
   "name": "python3"
  },
  "language_info": {
   "codemirror_mode": {
    "name": "ipython",
    "version": 3
   },
   "file_extension": ".py",
   "mimetype": "text/x-python",
   "name": "python",
   "nbconvert_exporter": "python",
   "pygments_lexer": "ipython3",
   "version": "3.9.7"
  }
 },
 "nbformat": 4,
 "nbformat_minor": 5
}
