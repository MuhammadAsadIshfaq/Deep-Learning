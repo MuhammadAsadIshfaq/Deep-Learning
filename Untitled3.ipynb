{
 "cells": [
  {
   "cell_type": "code",
   "execution_count": 1,
   "id": "b6562dc1",
   "metadata": {},
   "outputs": [],
   "source": [
    "import numpy as np\n",
    "import matplotlib.pyplot as plt"
   ]
  },
  {
   "cell_type": "code",
   "execution_count": 2,
   "id": "f8cfd650",
   "metadata": {},
   "outputs": [
    {
     "data": {
      "text/plain": [
       "array([[ 2,  1],\n",
       "       [ 4,  2],\n",
       "       [ 6,  4],\n",
       "       [ 9,  2],\n",
       "       [12,  3]])"
      ]
     },
     "execution_count": 2,
     "metadata": {},
     "output_type": "execute_result"
    }
   ],
   "source": [
    "x = np.array([[2,4,6,9,12],[1,2,4,2,3]]).T\n",
    "x"
   ]
  },
  {
   "cell_type": "code",
   "execution_count": 3,
   "id": "63308905",
   "metadata": {},
   "outputs": [
    {
     "data": {
      "text/plain": [
       "array([6.6, 2.4])"
      ]
     },
     "execution_count": 3,
     "metadata": {},
     "output_type": "execute_result"
    }
   ],
   "source": [
    "u = np.mean(x,axis=0)\n",
    "u"
   ]
  },
  {
   "cell_type": "code",
   "execution_count": 4,
   "id": "1e1ac4e3",
   "metadata": {},
   "outputs": [
    {
     "data": {
      "text/plain": [
       "array([[-4.6, -1.4],\n",
       "       [-2.6, -0.4],\n",
       "       [-0.6,  1.6],\n",
       "       [ 2.4, -0.4],\n",
       "       [ 5.4,  0.6]])"
      ]
     },
     "execution_count": 4,
     "metadata": {},
     "output_type": "execute_result"
    }
   ],
   "source": [
    "x_u = x-u\n",
    "x_u"
   ]
  },
  {
   "cell_type": "code",
   "execution_count": 5,
   "id": "691409c3",
   "metadata": {},
   "outputs": [
    {
     "data": {
      "text/plain": [
       "array([3.55527777, 1.0198039 ])"
      ]
     },
     "execution_count": 5,
     "metadata": {},
     "output_type": "execute_result"
    }
   ],
   "source": [
    "d = np.std(x,axis=0)\n",
    "d"
   ]
  },
  {
   "cell_type": "code",
   "execution_count": 6,
   "id": "ac5c8b4c",
   "metadata": {},
   "outputs": [
    {
     "data": {
      "text/plain": [
       "array([[-1.29385109, -1.37281295],\n",
       "       [-0.73130714, -0.39223227],\n",
       "       [-0.16876319,  1.56892908],\n",
       "       [ 0.67505274, -0.39223227],\n",
       "       [ 1.51886867,  0.58834841]])"
      ]
     },
     "execution_count": 6,
     "metadata": {},
     "output_type": "execute_result"
    }
   ],
   "source": [
    "x_norm = x_u/d\n",
    "x_norm"
   ]
  },
  {
   "cell_type": "code",
   "execution_count": 15,
   "id": "b6357b5e",
   "metadata": {},
   "outputs": [
    {
     "data": {
      "text/plain": [
       "<matplotlib.legend.Legend at 0x21453b11400>"
      ]
     },
     "execution_count": 15,
     "metadata": {},
     "output_type": "execute_result"
    },
    {
     "data": {
      "image/png": "[encoded data removed]",
      "text/plain": [
       "<Figure size 432x288 with 1 Axes>"
      ]
     },
     "metadata": {
      "needs_background": "light"
     },
     "output_type": "display_data"
    }
   ],
   "source": [
    "plt.scatter(x[:,0],x[:,1],color=\"red\", label=\"Orignal Data\",marker=\"o\")\n",
    "plt.scatter(x_u[:,0],x_u[:,1],color=\"blue\", label=\"X_u\",marker=\"x\")\n",
    "plt.scatter(x_norm[:,0],x_norm[:,1],color=\"green\", label=\"Nomalize Data\",marker=\"s\")\n",
    "\n",
    "\n",
    "\n",
    "plt.grid()\n",
    "plt.xlim(-13,13)\n",
    "plt.ylim(-13,13)\n",
    "plt.legend()"
   ]
  },
  {
   "cell_type": "code",
   "execution_count": 16,
   "id": "09345d1c",
   "metadata": {},
   "outputs": [
    {
     "data": {
      "text/plain": [
       "array([2, 1])"
      ]
     },
     "execution_count": 16,
     "metadata": {},
     "output_type": "execute_result"
    }
   ],
   "source": [
    "x_min = np.min(x,axis=0)\n",
    "x_min"
   ]
  },
  {
   "cell_type": "code",
   "execution_count": 17,
   "id": "80ec8eb8",
   "metadata": {},
   "outputs": [
    {
     "data": {
      "text/plain": [
       "array([12,  4])"
      ]
     },
     "execution_count": 17,
     "metadata": {},
     "output_type": "execute_result"
    }
   ],
   "source": [
    "x_max = np.max(x,axis=0)\n",
    "x_max"
   ]
  },
  {
   "cell_type": "code",
   "execution_count": 18,
   "id": "c350796b",
   "metadata": {
    "scrolled": true
   },
   "outputs": [
    {
     "data": {
      "text/plain": [
       "array([[ 0,  0],\n",
       "       [ 2,  1],\n",
       "       [ 4,  3],\n",
       "       [ 7,  1],\n",
       "       [10,  2]])"
      ]
     },
     "execution_count": 18,
     "metadata": {},
     "output_type": "execute_result"
    }
   ],
   "source": [
    "x_xmin = x-x_min\n",
    "x_xmin"
   ]
  },
  {
   "cell_type": "code",
   "execution_count": 20,
   "id": "08b45c31",
   "metadata": {},
   "outputs": [
    {
     "data": {
      "text/plain": [
       "array([-10,  -3])"
      ]
     },
     "execution_count": 20,
     "metadata": {},
     "output_type": "execute_result"
    }
   ],
   "source": [
    "d1 = x_min-x_max\n",
    "d1"
   ]
  },
  {
   "cell_type": "code",
   "execution_count": 24,
   "id": "495259c0",
   "metadata": {},
   "outputs": [
    {
     "data": {
      "text/plain": [
       "array([[-0.        , -0.        ],\n",
       "       [-0.2       , -0.33333333],\n",
       "       [-0.4       , -1.        ],\n",
       "       [-0.7       , -0.33333333],\n",
       "       [-1.        , -0.66666667]])"
      ]
     },
     "execution_count": 24,
     "metadata": {},
     "output_type": "execute_result"
    }
   ],
   "source": [
    "min_max = x_xmin/d1\n",
    "min_max"
   ]
  },
  {
   "cell_type": "code",
   "execution_count": 27,
   "id": "d5228a2f",
   "metadata": {},
   "outputs": [
    {
     "data": {
      "text/plain": [
       "<matplotlib.legend.Legend at 0x21453df3190>"
      ]
     },
     "execution_count": 27,
     "metadata": {},
     "output_type": "execute_result"
    },
    {
     "data": {
      "image/png": "[encoded data removed]",
      "text/plain": [
       "<Figure size 432x288 with 1 Axes>"
      ]
     },
     "metadata": {
      "needs_background": "light"
     },
     "output_type": "display_data"
    }
   ],
   "source": [
    "plt.scatter(x[:,0],x[:,1],color=\"red\", label=\"Orignal Data\",marker=\"o\")\n",
    "plt.scatter(x_u[:,0],x_u[:,1],color=\"blue\", label=\"X_u\",marker=\"x\")\n",
    "plt.scatter(x_norm[:,0],x_norm[:,1],color=\"green\", label=\"Nomalize Data\",marker=\"s\")\n",
    "plt.scatter(min_max[:,0],min_max[:,1],color=\"orange\", label=\"Nomalize Data\",marker=\"s\")\n",
    "\n",
    "\n",
    "\n",
    "plt.grid()\n",
    "plt.xlim(-13,13)\n",
    "plt.ylim(-13,13)\n",
    "plt.legend()"
   ]
  },
  {
   "cell_type": "code",
   "execution_count": null,
   "id": "08c61162",
   "metadata": {},
   "outputs": [],
   "source": []
  }
 ],
 "metadata": {
  "kernelspec": {
   "display_name": "Python 3 (ipykernel)",
   "language": "python",
   "name": "python3"
  },
  "language_info": {
   "codemirror_mode": {
    "name": "ipython",
    "version": 3
   },
   "file_extension": ".py",
   "mimetype": "text/x-python",
   "name": "python",
   "nbconvert_exporter": "python",
   "pygments_lexer": "ipython3",
   "version": "3.9.7"
  }
 },
 "nbformat": 4,
 "nbformat_minor": 5
}
