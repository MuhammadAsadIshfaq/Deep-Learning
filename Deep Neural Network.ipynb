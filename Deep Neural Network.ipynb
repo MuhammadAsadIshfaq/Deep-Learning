{
 "cells": [
  {
   "cell_type": "code",
   "execution_count": 40,
   "id": "9577748e",
   "metadata": {},
   "outputs": [],
   "source": [
    "import numpy as np\n",
    "\n",
    "\n",
    "X = np.array([0.1,0.5,0.8])\n",
    "\n",
    "weights = np.array([[0.4967,1.5230,1.5792],[-0.1383,-0.2342,0.7674],[0.6477,-0.2341,-0.4695]]).T\n",
    "b = np.array([0.5425,-0.4616,-0.4657])"
   ]
  },
  {
   "cell_type": "code",
   "execution_count": 42,
   "id": "d51d55c3",
   "metadata": {},
   "outputs": [
    {
     "name": "stdout",
     "output_type": "stream",
     "text": [
      "[[ 2.61703  0.02139 -0.89358]]\n",
      "[[0.93194959 0.5053473  0.29037159]]\n"
     ]
    },
    {
     "data": {
      "text/plain": [
       "array([[0.93194959, 0.5053473 , 0.29037159]])"
      ]
     },
     "execution_count": 42,
     "metadata": {},
     "output_type": "execute_result"
    }
   ],
   "source": [
    "def forward(X, w, b):\n",
    "    # Ensure X is a row vector\n",
    "    X = X.reshape(1, -1)\n",
    "    z = np.dot(X, w) + b\n",
    "    a = 1 / (1 + np.exp(-z))\n",
    "    print(z)\n",
    "    print(a)\n",
    "    return a\n",
    "# Call the function\n",
    "forward(X, weights, b)"
   ]
  },
  {
   "cell_type": "code",
   "execution_count": 48,
   "id": "e3aaad97",
   "metadata": {},
   "outputs": [
    {
     "name": "stdout",
     "output_type": "stream",
     "text": [
      "[[ 0.70654341 -3.60608424 -2.93934773]]\n",
      "[[0.66963693 0.02643993 0.05024239]]\n"
     ]
    },
    {
     "data": {
      "text/plain": [
       "array([[0.66963693, 0.02643993, 0.05024239]])"
      ]
     },
     "execution_count": 48,
     "metadata": {},
     "output_type": "execute_result"
    }
   ],
   "source": [
    "X2 = np.array([0.93194959, 0.5053473 , 0.29037159])\n",
    "\n",
    "w2 = np.array([[0.5426,0.2419,-0.5623],[-0.4634,-1.9132,-1.0128],[-0.4657,-1.7249,0.3142]]).T\n",
    "\n",
    "b2 = np.array([0.2419,-1.9133,-1.7249])\n",
    "\n",
    "forward(X2, w2, b2)"
   ]
  },
  {
   "cell_type": "code",
   "execution_count": 49,
   "id": "33cebb9b",
   "metadata": {},
   "outputs": [
    {
     "name": "stdout",
     "output_type": "stream",
     "text": [
      "[[-1.20365243 -1.95117166  1.20017217]]\n",
      "[[0.23082611 0.12442566 0.76855541]]\n"
     ]
    },
    {
     "data": {
      "text/plain": [
       "array([[0.23082611, 0.12442566, 0.76855541]])"
      ]
     },
     "execution_count": 49,
     "metadata": {},
     "output_type": "execute_result"
    }
   ],
   "source": [
    "X3 = np.array([0.66963693, 0.02643993, 0.05024239])\n",
    "\n",
    "w3 = np.array([[-0.9080,-0.2258,-0.5444],[-1.4123,0.0675,0.1109],[1.4656,-1.4247,-1.1500]]).T\n",
    "\n",
    "b3 = np.array([-0.5623,-1.0128,0.3142])\n",
    "\n",
    "forward(X3, w3, b3)"
   ]
  },
  {
   "cell_type": "code",
   "execution_count": 50,
   "id": "78789d2e",
   "metadata": {},
   "outputs": [
    {
     "name": "stdout",
     "output_type": "stream",
     "text": [
      "[[ 0.56846287 -1.66435393]]\n",
      "[[0.63840841 0.1591784 ]]\n"
     ]
    },
    {
     "data": {
      "text/plain": [
       "array([[0.63840841, 0.1591784 ]])"
      ]
     },
     "execution_count": 50,
     "metadata": {},
     "output_type": "execute_result"
    }
   ],
   "source": [
    "X4 = np.array([0.23082611, 0.12442566, 0.76855541])\n",
    "\n",
    "w4 = np.array([[0.3757,-0.2917,0.1852],[-0.6006,-0.6017,-1.1063]]).T\n",
    "\n",
    "b4 = np.array([0.3757,-0.6006])\n",
    "\n",
    "forward(X4, w4, b4)"
   ]
  },
  {
   "cell_type": "code",
   "execution_count": 53,
   "id": "1449915f",
   "metadata": {},
   "outputs": [
    {
     "name": "stdout",
     "output_type": "stream",
     "text": [
      "Loss is  0.4487770593744113\n"
     ]
    }
   ],
   "source": [
    "y = 1  \n",
    "loss = - (y * np.log(0.63840841) + (1 - y) * np.log(1 - 0.63840841))\n",
    "\n",
    "print(\"Loss is \",loss)"
   ]
  },
  {
   "cell_type": "code",
   "execution_count": 64,
   "id": "b69af3a2",
   "metadata": {},
   "outputs": [
    {
     "name": "stdout",
     "output_type": "stream",
     "text": [
      "Loss is  0.17337576993015372\n"
     ]
    }
   ],
   "source": [
    "y = 0\n",
    "loss = - (y * np.log(0.1591784) + (1 - y) * np.log(1 - 0.1591784))\n",
    "\n",
    "print(\"Loss is \",loss)"
   ]
  },
  {
   "cell_type": "code",
   "execution_count": 65,
   "id": "f3830414",
   "metadata": {},
   "outputs": [
    {
     "data": {
      "text/plain": [
       "0.17337576993015372"
      ]
     },
     "execution_count": 65,
     "metadata": {},
     "output_type": "execute_result"
    }
   ],
   "source": [
    "def loss(a,y):\n",
    "    loss = - (y * np.log(a) + (1 - y) * np.log(1-a))\n",
    "    return loss\n",
    "loss(0.1591784,0)"
   ]
  },
  {
   "cell_type": "code",
   "execution_count": null,
   "id": "26e22fb9",
   "metadata": {},
   "outputs": [],
   "source": []
  },
  {
   "cell_type": "code",
   "execution_count": null,
   "id": "e7f87282",
   "metadata": {},
   "outputs": [],
   "source": []
  },
  {
   "cell_type": "code",
   "execution_count": null,
   "id": "47dc559f",
   "metadata": {},
   "outputs": [],
   "source": []
  }
 ],
 "metadata": {
  "kernelspec": {
   "display_name": "Python 3 (ipykernel)",
   "language": "python",
   "name": "python3"
  },
  "language_info": {
   "codemirror_mode": {
    "name": "ipython",
    "version": 3
   },
   "file_extension": ".py",
   "mimetype": "text/x-python",
   "name": "python",
   "nbconvert_exporter": "python",
   "pygments_lexer": "ipython3",
   "version": "3.9.7"
  }
 },
 "nbformat": 4,
 "nbformat_minor": 5
}
